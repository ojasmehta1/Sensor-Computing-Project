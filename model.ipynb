{
  "nbformat": 4,
  "nbformat_minor": 0,
  "metadata": {
    "accelerator": "GPU",
    "colab": {
      "name": "model.ipynb",
      "private_outputs": true,
      "provenance": [],
      "collapsed_sections": []
    },
    "kernelspec": {
      "display_name": "Python 3",
      "language": "python",
      "name": "python3"
    },
    "language_info": {
      "codemirror_mode": {
        "name": "ipython",
        "version": 3
      },
      "file_extension": ".py",
      "mimetype": "text/x-python",
      "name": "python",
      "nbconvert_exporter": "python",
      "pygments_lexer": "ipython3",
      "version": "3.6.8"
    }
  },
  "cells": [
    {
      "cell_type": "code",
      "metadata": {
        "id": "S89AJpQYG3du"
      },
      "source": [
        "import math\n",
        "\n",
        "import tensorflow as tf\n",
        "from tensorflow.keras.callbacks import LearningRateScheduler\n",
        "from tensorflow.keras.datasets import mnist\n",
        "from tensorflow.keras.initializers import Constant\n",
        "from tensorflow.keras.layers import Input, Conv2D, BatchNormalization, Activation, Dropout, Flatten, Dense\n",
        "from tensorflow.keras.models import Model\n",
        "from tensorflow.keras.utils import to_categorical\n",
        "\n",
        "import pandas as pd \n",
        "import numpy as np \n",
        "import sklearn \n",
        "from sklearn.model_selection import train_test_split \n",
        "from sklearn.preprocessing import LabelBinarizer\n",
        "\n"
      ],
      "execution_count": null,
      "outputs": []
    },
    {
      "cell_type": "code",
      "metadata": {
        "id": "ChV_oxWrJ3nl"
      },
      "source": [
        "NUM_CLASSES = 7"
      ],
      "execution_count": null,
      "outputs": []
    },
    {
      "cell_type": "code",
      "metadata": {
        "id": "wlnQdsrDh9AX"
      },
      "source": [
        "path = \"data.csv\" \n",
        " \n",
        "df = pd.read_csv(path)\n",
        "print(df)"
      ],
      "execution_count": null,
      "outputs": []
    },
    {
      "cell_type": "markdown",
      "metadata": {
        "id": "U_FeJavjGEqS"
      },
      "source": [
        "# New Section"
      ]
    },
    {
      "cell_type": "code",
      "metadata": {
        "id": "w2LzITWBX9HK"
      },
      "source": [
        "Y = df['label'].values.reshape(df.shape[0],1)\n",
        "df = df.drop('sec', 1)\n",
        "df = df.drop('label', 1)\n",
        "dataset = df.values \n",
        "X = dataset[:,0:dataset.shape[1]]"
      ],
      "execution_count": null,
      "outputs": []
    },
    {
      "cell_type": "code",
      "metadata": {
        "id": "AnM5Ia7LXqWD"
      },
      "source": [
        "x_train, x_test, y_train, y_test = train_test_split(X, Y, test_size=0.2 ) # training to testing ratio is 0.8:0.2 \n",
        "\n",
        "print(\"x_train.shape = {}, y_train.shape = {}\".format(x_train.shape, y_train.shape))\n",
        "print(\"x_test.shape = {}, y_test.shape = {}\".format(x_test.shape, y_test.shape))\n",
        "\n",
        "#print(y_train)\n",
        "\n",
        "encoder = LabelBinarizer()\n",
        "y_train = encoder.fit_transform(y_train)\n",
        "y_test = encoder.fit_transform(y_test)\n",
        "#print(transformed_label)\n",
        "print(y_train.shape)\n",
        "\n",
        "#y_train = to_categorical(y_train, 3)\n",
        "#y_test = to_categorical(y_test, 3)\n",
        "#print(\"y_train.shape = {}, y_test.shape = {}\".format(y_train.shape, y_test.shape))\n",
        "\n"
      ],
      "execution_count": null,
      "outputs": []
    },
    {
      "cell_type": "code",
      "metadata": {
        "id": "_Lq0YDUYiTMN"
      },
      "source": [
        "model = tf.keras.models.Sequential([\n",
        "    tf.keras.layers.Dense(100, input_shape=(7,), activation='relu'),\n",
        "    tf.keras.layers.Dense(50, activation='relu'),\n",
        "    tf.keras.layers.Dense(20, activation='relu'),\n",
        "    tf.keras.layers.Dense(10, activation='relu'),\n",
        "    tf.keras.layers.Dense(3, activation=\"softmax\")\n",
        "])\n",
        "\n",
        "model.compile(loss='categorical_crossentropy', optimizer='adam', metrics=['accuracy'])"
      ],
      "execution_count": null,
      "outputs": []
    },
    {
      "cell_type": "code",
      "metadata": {
        "id": "nBzYWAEAiwzx"
      },
      "source": [
        "model.summary()"
      ],
      "execution_count": null,
      "outputs": []
    },
    {
      "cell_type": "code",
      "metadata": {
        "id": "McycGoh0itz2"
      },
      "source": [
        "lr_decay = lambda epoch: 0.0001 + 0.02 * math.pow(1.0 / math.e, epoch / 3.0)\n",
        "decay_callback = LearningRateScheduler(lr_decay, verbose=1)\n",
        "\n",
        "history = model.fit(x_train, y_train, batch_size=128, epochs=20, verbose=1, \n",
        "                    validation_data=(x_test, y_test), callbacks=[decay_callback])"
      ],
      "execution_count": null,
      "outputs": []
    },
    {
      "cell_type": "code",
      "metadata": {
        "id": "FinX93e1jKz9"
      },
      "source": [
        "model.save('model/mydata.h5')"
      ],
      "execution_count": null,
      "outputs": []
    },
    {
      "cell_type": "code",
      "metadata": {
        "id": "ioCGtGB3mkDv"
      },
      "source": [
        "converter = tf.compat.v1.lite.TFLiteConverter.from_keras_model_file('model/mydata.h5')\n",
        "tflite_model = converter.convert()\n",
        "open('mydata.tflite', 'wb').write(tflite_model)"
      ],
      "execution_count": null,
      "outputs": []
    },
    {
      "cell_type": "code",
      "metadata": {
        "id": "51PTkdoPDOTW"
      },
      "source": [
        "try:\n",
        "    from google.colab import files\n",
        "    files.download('mydata.tflite')\n",
        "except:\n",
        "    print(\"Skip downloading\")"
      ],
      "execution_count": null,
      "outputs": []
    }
  ]
}